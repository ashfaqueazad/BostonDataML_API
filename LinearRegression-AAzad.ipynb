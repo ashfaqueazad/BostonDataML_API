{
 "cells": [
  {
   "cell_type": "markdown",
   "metadata": {},
   "source": [
    "# Loading dataset"
   ]
  },
  {
   "cell_type": "code",
   "execution_count": 1,
   "metadata": {},
   "outputs": [],
   "source": [
    "from sklearn.datasets import load_boston\n",
    "boston_data = load_boston()"
   ]
  },
  {
   "cell_type": "markdown",
   "metadata": {},
   "source": [
    "# Converting it into DataFrame"
   ]
  },
  {
   "cell_type": "code",
   "execution_count": 2,
   "metadata": {},
   "outputs": [],
   "source": [
    "import pandas as pd\n",
    "lrData = pd.DataFrame(boston_data.data, columns=boston_data.feature_names)"
   ]
  },
  {
   "cell_type": "markdown",
   "metadata": {},
   "source": [
    "# Checking for missing values"
   ]
  },
  {
   "cell_type": "code",
   "execution_count": 3,
   "metadata": {},
   "outputs": [
    {
     "data": {
      "text/plain": [
       "False"
      ]
     },
     "execution_count": 3,
     "metadata": {},
     "output_type": "execute_result"
    }
   ],
   "source": [
    "lrData.isnull().values.any()"
   ]
  },
  {
   "cell_type": "markdown",
   "metadata": {},
   "source": [
    "# Target"
   ]
  },
  {
   "cell_type": "code",
   "execution_count": 4,
   "metadata": {},
   "outputs": [],
   "source": [
    "y=boston_data.target"
   ]
  },
  {
   "cell_type": "markdown",
   "metadata": {},
   "source": [
    "# Standard Scaling"
   ]
  },
  {
   "cell_type": "code",
   "execution_count": 5,
   "metadata": {},
   "outputs": [],
   "source": [
    "#Standardize features by removing the mean and scaling to unit variance\n",
    "import numpy as np\n",
    "from sklearn.preprocessing import StandardScaler\n",
    "def standardScaler(X_train,X_test):\n",
    "    e =StandardScaler()\n",
    "    X_train = e.fit_transform(X_train)\n",
    "    X_test = e.transform(X_test)\n",
    "    return X_train,X_test"
   ]
  },
  {
   "cell_type": "markdown",
   "metadata": {},
   "source": [
    "# Importing linear model from sklearn"
   ]
  },
  {
   "cell_type": "code",
   "execution_count": 6,
   "metadata": {},
   "outputs": [],
   "source": [
    "from sklearn import linear_model\n",
    "from sklearn.model_selection import train_test_split\n",
    "from sklearn.metrics import r2_score"
   ]
  },
  {
   "cell_type": "code",
   "execution_count": 7,
   "metadata": {},
   "outputs": [],
   "source": [
    "lr=linear_model.LinearRegression()"
   ]
  },
  {
   "cell_type": "markdown",
   "metadata": {},
   "source": [
    "# Checking how well the data fits with different training-data sizes."
   ]
  },
  {
   "cell_type": "code",
   "execution_count": 8,
   "metadata": {},
   "outputs": [],
   "source": [
    "list1=[]#stores r2 scores\n",
    "for i in range(1,4):#testdata from 10% to 30%\n",
    "    #Splitting into training and testing\n",
    "    X_train, X_test, y_train, y_test = train_test_split(lrData, y, test_size=i*0.1,random_state=2)\n",
    "    X_train,X_test=standardScaler(X_train,X_test)#standardising\n",
    "    lr.fit(X_train,y_train)#fitting\n",
    "    list1.append(r2_score(lr.predict(X_test), y_test))#appending the results to list"
   ]
  },
  {
   "cell_type": "code",
   "execution_count": 9,
   "metadata": {},
   "outputs": [
    {
     "name": "stdout",
     "output_type": "stream",
     "text": [
      "20% test-data size\n",
      "0.7578669094219397\n"
     ]
    }
   ],
   "source": [
    "print(str((list1.index(max(list1))+1)*10)+\"%\",\"test-data size\")\n",
    "print(max(list1))"
   ]
  },
  {
   "cell_type": "markdown",
   "metadata": {},
   "source": [
    "# Selecting features with high relative importance (from Random Forest)"
   ]
  },
  {
   "cell_type": "code",
   "execution_count": 10,
   "metadata": {},
   "outputs": [],
   "source": [
    "del lrData['INDUS']      \n",
    "del lrData['RAD']        \n",
    "del lrData['CHAS']       \n",
    "del lrData['ZN'] \n",
    "#This cell deletes features with less relative importance as found from the RF model"
   ]
  },
  {
   "cell_type": "code",
   "execution_count": 11,
   "metadata": {},
   "outputs": [],
   "source": [
    "list1=[]#stores r2 scores\n",
    "for i in range(1,4):#testdata from 10% to 30%\n",
    "    #Splitting into training and testing\n",
    "    X_train, X_test, y_train, y_test = train_test_split(lrData, y, test_size=i*0.1,random_state=2)\n",
    "    X_train,X_test=standardScaler(X_train,X_test)#standardising\n",
    "    lr.fit(X_train,y_train)#fitting\n",
    "    list1.append(r2_score(lr.predict(X_test), y_test))#appending the results to list"
   ]
  },
  {
   "cell_type": "code",
   "execution_count": 12,
   "metadata": {},
   "outputs": [
    {
     "name": "stdout",
     "output_type": "stream",
     "text": [
      "20% test-data size\n",
      "0.751680845901764\n"
     ]
    }
   ],
   "source": [
    "print(str((list1.index(max(list1))+1)*10)+\"%\",\"test-data size\")\n",
    "print(max(list1))"
   ]
  }
 ],
 "metadata": {
  "kernelspec": {
   "display_name": "Python 3",
   "language": "python",
   "name": "python3"
  },
  "language_info": {
   "codemirror_mode": {
    "name": "ipython",
    "version": 3
   },
   "file_extension": ".py",
   "mimetype": "text/x-python",
   "name": "python",
   "nbconvert_exporter": "python",
   "pygments_lexer": "ipython3",
   "version": "3.6.3"
  }
 },
 "nbformat": 4,
 "nbformat_minor": 2
}
